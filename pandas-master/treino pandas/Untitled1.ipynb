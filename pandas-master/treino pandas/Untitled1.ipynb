{
 "cells": [
  {
   "cell_type": "code",
   "execution_count": 4,
   "metadata": {},
   "outputs": [
    {
     "name": "stdout",
     "output_type": "stream",
     "text": [
      "Requirement already satisfied: pip in /home/augusto-pibit/anaconda3/lib/python3.7/site-packages (22.3)\n",
      "Collecting pip\n",
      "  Downloading pip-22.3.1-py3-none-any.whl (2.1 MB)\n",
      "\u001b[2K     \u001b[38;2;114;156;31m━━━━━━━━━━━━━━━━━━━━━━━━━━━━━━━━━━━━━━━━\u001b[0m \u001b[32m2.1/2.1 MB\u001b[0m \u001b[31m7.0 MB/s\u001b[0m eta \u001b[36m0:00:00\u001b[0m[31m7.7 MB/s\u001b[0m eta \u001b[36m0:00:01\u001b[0m\n",
      "\u001b[?25hInstalling collected packages: pip\n",
      "  Attempting uninstall: pip\n",
      "    Found existing installation: pip 22.3\n",
      "    Uninstalling pip-22.3:\n",
      "      Successfully uninstalled pip-22.3\n",
      "Successfully installed pip-22.3.1\n"
     ]
    }
   ],
   "source": [
    "!python -m pip install --upgrade pip"
   ]
  },
  {
   "cell_type": "code",
   "execution_count": 5,
   "metadata": {},
   "outputs": [
    {
     "name": "stdout",
     "output_type": "stream",
     "text": [
      "Requirement already satisfied: plotly in /home/augusto-pibit/anaconda3/lib/python3.7/site-packages (5.11.0)\r\n",
      "Requirement already satisfied: tenacity>=6.2.0 in /home/augusto-pibit/anaconda3/lib/python3.7/site-packages (from plotly) (8.1.0)\r\n"
     ]
    }
   ],
   "source": [
    "!pip3 install plotly"
   ]
  },
  {
   "cell_type": "code",
   "execution_count": 6,
   "metadata": {},
   "outputs": [],
   "source": [
    "import numpy as np\n",
    "import plotly.graph_objs as go\n",
    "from plotly.offline import plot"
   ]
  },
  {
   "cell_type": "code",
   "execution_count": 7,
   "metadata": {},
   "outputs": [
    {
     "data": {
      "text/plain": [
       "'temp-plot.html'"
      ]
     },
     "execution_count": 7,
     "metadata": {},
     "output_type": "execute_result"
    }
   ],
   "source": [
    "#N = 1000\n",
    "#random_x = np.random.randn(N)\n",
    "#random_y = np.random.randn(N)\n",
    "\n",
    "#trace = go.Scatter(\n",
    "#x = random_x,\n",
    "#y = random_y,\n",
    "#mode = 'markers')\n",
    "\n",
    "#data = [trace]\n",
    "\n",
    "#plot(data,filename='basicScatter.html')\n",
    "\n",
    "N = 100\n",
    "random_x = np.linspace(0, 1, N)\n",
    "random_y0 = np.random.randn(N)+5\n",
    "random_y1 = np.random.randn(N)\n",
    "random_y2 = np.random.randn(N)-5\n",
    "\n",
    "#criando tracers\n",
    "\n",
    "trace0 = go.Scatter(\n",
    "x = random_x,\n",
    "y = random_y0,\n",
    "mode = 'markers',\n",
    "name = 'markers')\n",
    "\n",
    "trace1 = go.Scatter(\n",
    "x = random_x,\n",
    "y = random_y1,\n",
    "mode = 'lines+markers',\n",
    "name = 'lines+markers')\n",
    "\n",
    "trace2 = go.Scatter(\n",
    "x = random_x,\n",
    "y = random_y2,\n",
    "mode = 'lines',\n",
    "name = 'lines')\n",
    "\n",
    "data = [trace0, trace1, trace2]\n",
    "\n",
    "#fazendo a vizualização\n",
    "plot(data)"
   ]
  },
  {
   "cell_type": "code",
   "execution_count": 3,
   "metadata": {},
   "outputs": [
    {
     "data": {
      "text/plain": [
       "'styled-scatter.html'"
      ]
     },
     "execution_count": 3,
     "metadata": {},
     "output_type": "execute_result"
    }
   ],
   "source": [
    "N = 500\n",
    "\n",
    "trace0 = go.Scatter(\n",
    "x = np.random.randn(N),\n",
    "y = np.random.randn(N)+2,\n",
    "name = 'Above',\n",
    "mode = 'markers',\n",
    "marker = dict(\n",
    "size = 10,\n",
    "color = 'rgba(152,0,0, .8)',\n",
    "line = dict(\n",
    "    width = 2,\n",
    "    color = 'rgb(0,0,0)'\n",
    "        )\n",
    "    )\n",
    ")\n",
    "\n",
    "trace1= go.Scatter(\n",
    "x = np.random.randn(N),\n",
    "y = np.random.randn(N)-2,\n",
    "name = 'Below',\n",
    "mode = 'markers',\n",
    "marker = dict(\n",
    "size = 10,\n",
    "color = 'rgba(255,182,193, .9)',\n",
    "line = dict(\n",
    "width = 2,\n",
    ")))\n",
    "\n",
    "data = [trace0, trace1]\n",
    "\n",
    "layout = dict(title = 'Styled Scatter',\n",
    "             yaxis = dict(zeroline = False),\n",
    "             xaxis = dict(zeroline = False)\n",
    "             )\n",
    "\n",
    "fig = dict(data=data, layout=layout)\n",
    "plot(fig, filename='styled-scatter.html')"
   ]
  },
  {
   "cell_type": "code",
   "execution_count": null,
   "metadata": {},
   "outputs": [],
   "source": []
  }
 ],
 "metadata": {
  "kernelspec": {
   "display_name": "Python 3 (ipykernel)",
   "language": "python",
   "name": "python3"
  },
  "language_info": {
   "codemirror_mode": {
    "name": "ipython",
    "version": 3
   },
   "file_extension": ".py",
   "mimetype": "text/x-python",
   "name": "python",
   "nbconvert_exporter": "python",
   "pygments_lexer": "ipython3",
   "version": "3.7.0"
  }
 },
 "nbformat": 4,
 "nbformat_minor": 2
}
